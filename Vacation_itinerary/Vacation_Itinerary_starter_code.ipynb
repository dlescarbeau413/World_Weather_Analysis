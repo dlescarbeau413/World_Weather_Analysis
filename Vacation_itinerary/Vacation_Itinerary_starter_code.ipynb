{
 "cells": [
  {
   "cell_type": "markdown",
   "metadata": {},
   "source": [
    "## Deliverable 3. Create a Travel Itinerary Map."
   ]
  },
  {
   "cell_type": "code",
   "execution_count": 120,
   "metadata": {},
   "outputs": [],
   "source": [
    "# Dependencies and Setup\n",
    "import pandas as pd\n",
    "import requests\n",
    "import gmaps\n",
    "\n",
    "# Import API key\n",
    "from config import g_key\n",
    "\n",
    "# Configure gmaps\n",
    "gmaps.configure(api_key=g_key)"
   ]
  },
  {
   "cell_type": "code",
   "execution_count": 121,
   "metadata": {},
   "outputs": [
    {
     "data": {
      "text/html": [
       "<div>\n",
       "<style scoped>\n",
       "    .dataframe tbody tr th:only-of-type {\n",
       "        vertical-align: middle;\n",
       "    }\n",
       "\n",
       "    .dataframe tbody tr th {\n",
       "        vertical-align: top;\n",
       "    }\n",
       "\n",
       "    .dataframe thead th {\n",
       "        text-align: right;\n",
       "    }\n",
       "</style>\n",
       "<table border=\"1\" class=\"dataframe\">\n",
       "  <thead>\n",
       "    <tr style=\"text-align: right;\">\n",
       "      <th></th>\n",
       "      <th>Unnamed: 0</th>\n",
       "      <th>City</th>\n",
       "      <th>Country</th>\n",
       "      <th>Max Temp</th>\n",
       "      <th>Current Weather</th>\n",
       "      <th>Lat</th>\n",
       "      <th>Lng</th>\n",
       "      <th>Hotel Name</th>\n",
       "    </tr>\n",
       "  </thead>\n",
       "  <tbody>\n",
       "    <tr>\n",
       "      <th>0</th>\n",
       "      <td>1</td>\n",
       "      <td>Byron Bay</td>\n",
       "      <td>AU</td>\n",
       "      <td>71.49</td>\n",
       "      <td>overcast clouds</td>\n",
       "      <td>-28.6500</td>\n",
       "      <td>153.6167</td>\n",
       "      <td>Backpackers Inn on the Beach</td>\n",
       "    </tr>\n",
       "    <tr>\n",
       "      <th>1</th>\n",
       "      <td>2</td>\n",
       "      <td>Mozarlandia</td>\n",
       "      <td>BR</td>\n",
       "      <td>77.25</td>\n",
       "      <td>overcast clouds</td>\n",
       "      <td>-14.7447</td>\n",
       "      <td>-50.5706</td>\n",
       "      <td>Hotel Santa Mônica</td>\n",
       "    </tr>\n",
       "    <tr>\n",
       "      <th>2</th>\n",
       "      <td>3</td>\n",
       "      <td>Tapiramuta</td>\n",
       "      <td>BR</td>\n",
       "      <td>79.14</td>\n",
       "      <td>broken clouds</td>\n",
       "      <td>-11.8472</td>\n",
       "      <td>-40.7914</td>\n",
       "      <td>Casa Alencar</td>\n",
       "    </tr>\n",
       "    <tr>\n",
       "      <th>3</th>\n",
       "      <td>8</td>\n",
       "      <td>Rikitea</td>\n",
       "      <td>PF</td>\n",
       "      <td>72.36</td>\n",
       "      <td>clear sky</td>\n",
       "      <td>-23.1203</td>\n",
       "      <td>-134.9692</td>\n",
       "      <td>People ThankYou</td>\n",
       "    </tr>\n",
       "    <tr>\n",
       "      <th>4</th>\n",
       "      <td>9</td>\n",
       "      <td>Hermanus</td>\n",
       "      <td>ZA</td>\n",
       "      <td>72.90</td>\n",
       "      <td>clear sky</td>\n",
       "      <td>-34.4187</td>\n",
       "      <td>19.2345</td>\n",
       "      <td>Misty Waves Boutique Hotel</td>\n",
       "    </tr>\n",
       "  </tbody>\n",
       "</table>\n",
       "</div>"
      ],
      "text/plain": [
       "   Unnamed: 0         City Country  Max Temp  Current Weather      Lat  \\\n",
       "0           1    Byron Bay      AU     71.49  overcast clouds -28.6500   \n",
       "1           2  Mozarlandia      BR     77.25  overcast clouds -14.7447   \n",
       "2           3   Tapiramuta      BR     79.14    broken clouds -11.8472   \n",
       "3           8      Rikitea      PF     72.36        clear sky -23.1203   \n",
       "4           9     Hermanus      ZA     72.90        clear sky -34.4187   \n",
       "\n",
       "        Lng                    Hotel Name  \n",
       "0  153.6167  Backpackers Inn on the Beach  \n",
       "1  -50.5706            Hotel Santa Mônica  \n",
       "2  -40.7914                  Casa Alencar  \n",
       "3 -134.9692               People ThankYou  \n",
       "4   19.2345    Misty Waves Boutique Hotel  "
      ]
     },
     "execution_count": 121,
     "metadata": {},
     "output_type": "execute_result"
    }
   ],
   "source": [
    "# 1. Read the WeatherPy_vacation.csv into a DataFrame.\n",
    "vacation_df = pd.read_csv(\"../Vacation_search/WeatherPy_vacation.csv\")\n",
    "vacation_df.head()"
   ]
  },
  {
   "cell_type": "code",
   "execution_count": 122,
   "metadata": {},
   "outputs": [],
   "source": [
    "# 2. Using the template add the city name, the country code, the weather description and maximum temperature for the city.\n",
    "info_box_template = \"\"\"\n",
    "<dl>\n",
    "<dt>City</dt><dd>{City}</dd>\n",
    "<dt>Country</dt><dd>{Country}</dd>\n",
    "<dt>Current Weather</dt><dd>{Current Weather}</dd>\n",
    "<dt>Max Temp</dt><dd>{Max Temp}</dd>\n",
    "</dl>\n",
    "\"\"\"\n",
    "\n",
    "# 3a. Get the data from each row and add it to the formatting template and store the data in a list.\n",
    "hotel_info = [info_box_template.format(**row) for index, row in vacation_df.iterrows()]\n",
    "\n",
    "# 3b. Get the latitude and longitude from each row and store in a new DataFrame.\n",
    "locations = vacation_df[[\"Lat\", \"Lng\"]]"
   ]
  },
  {
   "cell_type": "code",
   "execution_count": 123,
   "metadata": {},
   "outputs": [
    {
     "data": {
      "application/vnd.jupyter.widget-view+json": {
       "model_id": "c229e6ca647a47119fb88cb224b4e7d5",
       "version_major": 2,
       "version_minor": 0
      },
      "text/plain": [
       "Figure(layout=FigureLayout(height='420px'))"
      ]
     },
     "metadata": {},
     "output_type": "display_data"
    }
   ],
   "source": [
    "# 4a. Add a marker layer for each city to the map.\n",
    "marker_layer = gmaps.marker_layer(locations, info_box_content=hotel_info)\n",
    "fig = gmaps.figure()\n",
    "fig.add_layer(marker_layer)\n",
    "fig\n",
    "# 4b. Display the figure\n",
    "fig\n"
   ]
  },
  {
   "cell_type": "code",
   "execution_count": 124,
   "metadata": {},
   "outputs": [
    {
     "data": {
      "text/html": [
       "<div>\n",
       "<style scoped>\n",
       "    .dataframe tbody tr th:only-of-type {\n",
       "        vertical-align: middle;\n",
       "    }\n",
       "\n",
       "    .dataframe tbody tr th {\n",
       "        vertical-align: top;\n",
       "    }\n",
       "\n",
       "    .dataframe thead th {\n",
       "        text-align: right;\n",
       "    }\n",
       "</style>\n",
       "<table border=\"1\" class=\"dataframe\">\n",
       "  <thead>\n",
       "    <tr style=\"text-align: right;\">\n",
       "      <th></th>\n",
       "      <th>Unnamed: 0</th>\n",
       "      <th>City</th>\n",
       "      <th>Country</th>\n",
       "      <th>Max Temp</th>\n",
       "      <th>Current Weather</th>\n",
       "      <th>Lat</th>\n",
       "      <th>Lng</th>\n",
       "      <th>Hotel Name</th>\n",
       "    </tr>\n",
       "  </thead>\n",
       "  <tbody>\n",
       "    <tr>\n",
       "      <th>135</th>\n",
       "      <td>393</td>\n",
       "      <td>Sawtell</td>\n",
       "      <td>AU</td>\n",
       "      <td>70.18</td>\n",
       "      <td>overcast clouds</td>\n",
       "      <td>-30.3833</td>\n",
       "      <td>153.1</td>\n",
       "      <td>The Bungalow Sawtell</td>\n",
       "    </tr>\n",
       "  </tbody>\n",
       "</table>\n",
       "</div>"
      ],
      "text/plain": [
       "     Unnamed: 0     City Country  Max Temp  Current Weather      Lat    Lng  \\\n",
       "135         393  Sawtell      AU     70.18  overcast clouds -30.3833  153.1   \n",
       "\n",
       "               Hotel Name  \n",
       "135  The Bungalow Sawtell  "
      ]
     },
     "execution_count": 124,
     "metadata": {},
     "output_type": "execute_result"
    }
   ],
   "source": [
    "vacation_df.loc[vacation_df['City'] == \"Sawtell\"]\n"
   ]
  },
  {
   "cell_type": "code",
   "execution_count": 125,
   "metadata": {},
   "outputs": [
    {
     "data": {
      "text/html": [
       "<div>\n",
       "<style scoped>\n",
       "    .dataframe tbody tr th:only-of-type {\n",
       "        vertical-align: middle;\n",
       "    }\n",
       "\n",
       "    .dataframe tbody tr th {\n",
       "        vertical-align: top;\n",
       "    }\n",
       "\n",
       "    .dataframe thead th {\n",
       "        text-align: right;\n",
       "    }\n",
       "</style>\n",
       "<table border=\"1\" class=\"dataframe\">\n",
       "  <thead>\n",
       "    <tr style=\"text-align: right;\">\n",
       "      <th></th>\n",
       "      <th>Unnamed: 0</th>\n",
       "      <th>City</th>\n",
       "      <th>Country</th>\n",
       "      <th>Max Temp</th>\n",
       "      <th>Current Weather</th>\n",
       "      <th>Lat</th>\n",
       "      <th>Lng</th>\n",
       "      <th>Hotel Name</th>\n",
       "    </tr>\n",
       "  </thead>\n",
       "  <tbody>\n",
       "    <tr>\n",
       "      <th>0</th>\n",
       "      <td>1</td>\n",
       "      <td>Byron Bay</td>\n",
       "      <td>AU</td>\n",
       "      <td>71.49</td>\n",
       "      <td>overcast clouds</td>\n",
       "      <td>-28.65</td>\n",
       "      <td>153.6167</td>\n",
       "      <td>Backpackers Inn on the Beach</td>\n",
       "    </tr>\n",
       "  </tbody>\n",
       "</table>\n",
       "</div>"
      ],
      "text/plain": [
       "   Unnamed: 0       City Country  Max Temp  Current Weather    Lat       Lng  \\\n",
       "0           1  Byron Bay      AU     71.49  overcast clouds -28.65  153.6167   \n",
       "\n",
       "                     Hotel Name  \n",
       "0  Backpackers Inn on the Beach  "
      ]
     },
     "execution_count": 125,
     "metadata": {},
     "output_type": "execute_result"
    }
   ],
   "source": [
    "vacation_df.loc[vacation_df['City'] == \"Byron Bay\"]\n"
   ]
  },
  {
   "cell_type": "code",
   "execution_count": 126,
   "metadata": {},
   "outputs": [
    {
     "data": {
      "text/html": [
       "<div>\n",
       "<style scoped>\n",
       "    .dataframe tbody tr th:only-of-type {\n",
       "        vertical-align: middle;\n",
       "    }\n",
       "\n",
       "    .dataframe tbody tr th {\n",
       "        vertical-align: top;\n",
       "    }\n",
       "\n",
       "    .dataframe thead th {\n",
       "        text-align: right;\n",
       "    }\n",
       "</style>\n",
       "<table border=\"1\" class=\"dataframe\">\n",
       "  <thead>\n",
       "    <tr style=\"text-align: right;\">\n",
       "      <th></th>\n",
       "      <th>Unnamed: 0</th>\n",
       "      <th>City</th>\n",
       "      <th>Country</th>\n",
       "      <th>Max Temp</th>\n",
       "      <th>Current Weather</th>\n",
       "      <th>Lat</th>\n",
       "      <th>Lng</th>\n",
       "      <th>Hotel Name</th>\n",
       "    </tr>\n",
       "  </thead>\n",
       "  <tbody>\n",
       "    <tr>\n",
       "      <th>246</th>\n",
       "      <td>704</td>\n",
       "      <td>Brisbane</td>\n",
       "      <td>AU</td>\n",
       "      <td>73.58</td>\n",
       "      <td>clear sky</td>\n",
       "      <td>-27.4679</td>\n",
       "      <td>153.0281</td>\n",
       "      <td>Royal On The Park Brisbane</td>\n",
       "    </tr>\n",
       "  </tbody>\n",
       "</table>\n",
       "</div>"
      ],
      "text/plain": [
       "     Unnamed: 0      City Country  Max Temp Current Weather      Lat  \\\n",
       "246         704  Brisbane      AU     73.58       clear sky -27.4679   \n",
       "\n",
       "          Lng                  Hotel Name  \n",
       "246  153.0281  Royal On The Park Brisbane  "
      ]
     },
     "execution_count": 126,
     "metadata": {},
     "output_type": "execute_result"
    }
   ],
   "source": [
    "vacation_df.loc[vacation_df['City'] == \"Brisbane\"]\n"
   ]
  },
  {
   "cell_type": "code",
   "execution_count": 127,
   "metadata": {},
   "outputs": [
    {
     "data": {
      "text/html": [
       "<div>\n",
       "<style scoped>\n",
       "    .dataframe tbody tr th:only-of-type {\n",
       "        vertical-align: middle;\n",
       "    }\n",
       "\n",
       "    .dataframe tbody tr th {\n",
       "        vertical-align: top;\n",
       "    }\n",
       "\n",
       "    .dataframe thead th {\n",
       "        text-align: right;\n",
       "    }\n",
       "</style>\n",
       "<table border=\"1\" class=\"dataframe\">\n",
       "  <thead>\n",
       "    <tr style=\"text-align: right;\">\n",
       "      <th></th>\n",
       "      <th>Unnamed: 0</th>\n",
       "      <th>City</th>\n",
       "      <th>Country</th>\n",
       "      <th>Max Temp</th>\n",
       "      <th>Current Weather</th>\n",
       "      <th>Lat</th>\n",
       "      <th>Lng</th>\n",
       "      <th>Hotel Name</th>\n",
       "    </tr>\n",
       "  </thead>\n",
       "  <tbody>\n",
       "    <tr>\n",
       "      <th>52</th>\n",
       "      <td>159</td>\n",
       "      <td>Moree</td>\n",
       "      <td>AU</td>\n",
       "      <td>77.61</td>\n",
       "      <td>broken clouds</td>\n",
       "      <td>-29.4667</td>\n",
       "      <td>149.85</td>\n",
       "      <td>Molika Springs Motel</td>\n",
       "    </tr>\n",
       "  </tbody>\n",
       "</table>\n",
       "</div>"
      ],
      "text/plain": [
       "    Unnamed: 0   City Country  Max Temp Current Weather      Lat     Lng  \\\n",
       "52         159  Moree      AU     77.61   broken clouds -29.4667  149.85   \n",
       "\n",
       "              Hotel Name  \n",
       "52  Molika Springs Motel  "
      ]
     },
     "execution_count": 127,
     "metadata": {},
     "output_type": "execute_result"
    }
   ],
   "source": [
    "vacation_df.loc[vacation_df['City'] == \"Moree\"]"
   ]
  },
  {
   "cell_type": "code",
   "execution_count": 128,
   "metadata": {},
   "outputs": [],
   "source": [
    "# From the map above pick 4 cities and create a vacation itinerary route to travel between the four cities. \n",
    "# 5. Create DataFrames for each city by filtering the 'vacation_df' using the loc method. \n",
    "# Hint: The starting and ending city should be the same city.\n",
    "\n",
    "vacation_start = vacation_df.loc[vacation_df['City'] == \"Sawtell\"]\n",
    "vacation_end = vacation_df.loc[vacation_df['City'] == \"Sawtell\"]\n",
    "vacation_stop1 = vacation_df.loc[vacation_df['City'] == \"Byron Bay\"]\n",
    "vacation_stop2 = vacation_df.loc[vacation_df['City'] == \"Brisbane\"] \n",
    "vacation_stop3 = vacation_df.loc[vacation_df['City'] == \"Moree\"] "
   ]
  },
  {
   "cell_type": "code",
   "execution_count": 129,
   "metadata": {},
   "outputs": [
    {
     "data": {
      "text/html": [
       "<div>\n",
       "<style scoped>\n",
       "    .dataframe tbody tr th:only-of-type {\n",
       "        vertical-align: middle;\n",
       "    }\n",
       "\n",
       "    .dataframe tbody tr th {\n",
       "        vertical-align: top;\n",
       "    }\n",
       "\n",
       "    .dataframe thead th {\n",
       "        text-align: right;\n",
       "    }\n",
       "</style>\n",
       "<table border=\"1\" class=\"dataframe\">\n",
       "  <thead>\n",
       "    <tr style=\"text-align: right;\">\n",
       "      <th></th>\n",
       "      <th>Unnamed: 0</th>\n",
       "      <th>City</th>\n",
       "      <th>Country</th>\n",
       "      <th>Max Temp</th>\n",
       "      <th>Current Weather</th>\n",
       "      <th>Lat</th>\n",
       "      <th>Lng</th>\n",
       "      <th>Hotel Name</th>\n",
       "    </tr>\n",
       "  </thead>\n",
       "  <tbody>\n",
       "    <tr>\n",
       "      <th>0</th>\n",
       "      <td>393</td>\n",
       "      <td>Sawtell</td>\n",
       "      <td>AU</td>\n",
       "      <td>70.18</td>\n",
       "      <td>overcast clouds</td>\n",
       "      <td>-30.3833</td>\n",
       "      <td>153.1000</td>\n",
       "      <td>The Bungalow Sawtell</td>\n",
       "    </tr>\n",
       "    <tr>\n",
       "      <th>1</th>\n",
       "      <td>1</td>\n",
       "      <td>Byron Bay</td>\n",
       "      <td>AU</td>\n",
       "      <td>71.49</td>\n",
       "      <td>overcast clouds</td>\n",
       "      <td>-28.6500</td>\n",
       "      <td>153.6167</td>\n",
       "      <td>Backpackers Inn on the Beach</td>\n",
       "    </tr>\n",
       "    <tr>\n",
       "      <th>2</th>\n",
       "      <td>704</td>\n",
       "      <td>Brisbane</td>\n",
       "      <td>AU</td>\n",
       "      <td>73.58</td>\n",
       "      <td>clear sky</td>\n",
       "      <td>-27.4679</td>\n",
       "      <td>153.0281</td>\n",
       "      <td>Royal On The Park Brisbane</td>\n",
       "    </tr>\n",
       "    <tr>\n",
       "      <th>3</th>\n",
       "      <td>159</td>\n",
       "      <td>Moree</td>\n",
       "      <td>AU</td>\n",
       "      <td>77.61</td>\n",
       "      <td>broken clouds</td>\n",
       "      <td>-29.4667</td>\n",
       "      <td>149.8500</td>\n",
       "      <td>Molika Springs Motel</td>\n",
       "    </tr>\n",
       "  </tbody>\n",
       "</table>\n",
       "</div>"
      ],
      "text/plain": [
       "   Unnamed: 0       City Country  Max Temp  Current Weather      Lat  \\\n",
       "0         393    Sawtell      AU     70.18  overcast clouds -30.3833   \n",
       "1           1  Byron Bay      AU     71.49  overcast clouds -28.6500   \n",
       "2         704   Brisbane      AU     73.58        clear sky -27.4679   \n",
       "3         159      Moree      AU     77.61    broken clouds -29.4667   \n",
       "\n",
       "        Lng                    Hotel Name  \n",
       "0  153.1000          The Bungalow Sawtell  \n",
       "1  153.6167  Backpackers Inn on the Beach  \n",
       "2  153.0281    Royal On The Park Brisbane  \n",
       "3  149.8500          Molika Springs Motel  "
      ]
     },
     "execution_count": 129,
     "metadata": {},
     "output_type": "execute_result"
    }
   ],
   "source": [
    "itinerary_df"
   ]
  },
  {
   "cell_type": "code",
   "execution_count": 130,
   "metadata": {},
   "outputs": [
    {
     "data": {
      "text/html": [
       "<div>\n",
       "<style scoped>\n",
       "    .dataframe tbody tr th:only-of-type {\n",
       "        vertical-align: middle;\n",
       "    }\n",
       "\n",
       "    .dataframe tbody tr th {\n",
       "        vertical-align: top;\n",
       "    }\n",
       "\n",
       "    .dataframe thead th {\n",
       "        text-align: right;\n",
       "    }\n",
       "</style>\n",
       "<table border=\"1\" class=\"dataframe\">\n",
       "  <thead>\n",
       "    <tr style=\"text-align: right;\">\n",
       "      <th></th>\n",
       "      <th>City</th>\n",
       "      <th>Lat</th>\n",
       "      <th>Lng</th>\n",
       "    </tr>\n",
       "  </thead>\n",
       "  <tbody>\n",
       "    <tr>\n",
       "      <th>0</th>\n",
       "      <td>Sawtell</td>\n",
       "      <td>-30.3833</td>\n",
       "      <td>153.1000</td>\n",
       "    </tr>\n",
       "    <tr>\n",
       "      <th>1</th>\n",
       "      <td>Byron Bay</td>\n",
       "      <td>-28.6500</td>\n",
       "      <td>153.6167</td>\n",
       "    </tr>\n",
       "    <tr>\n",
       "      <th>2</th>\n",
       "      <td>Brisbane</td>\n",
       "      <td>-27.4679</td>\n",
       "      <td>153.0281</td>\n",
       "    </tr>\n",
       "    <tr>\n",
       "      <th>3</th>\n",
       "      <td>Moree</td>\n",
       "      <td>-29.4667</td>\n",
       "      <td>149.8500</td>\n",
       "    </tr>\n",
       "  </tbody>\n",
       "</table>\n",
       "</div>"
      ],
      "text/plain": [
       "        City      Lat       Lng\n",
       "0    Sawtell -30.3833  153.1000\n",
       "1  Byron Bay -28.6500  153.6167\n",
       "2   Brisbane -27.4679  153.0281\n",
       "3      Moree -29.4667  149.8500"
      ]
     },
     "execution_count": 130,
     "metadata": {},
     "output_type": "execute_result"
    }
   ],
   "source": [
    "# 6. Get the latitude-longitude pairs as tuples from each city DataFrame using the to_numpy function and list indexing.\n",
    "tour_df = itinerary_df.loc[:, ['City','Lat','Lng']]\n",
    "tour_df"
   ]
  },
  {
   "cell_type": "code",
   "execution_count": 131,
   "metadata": {
    "scrolled": true
   },
   "outputs": [
    {
     "ename": "SyntaxError",
     "evalue": "invalid syntax (<ipython-input-131-65ec03d511f5>, line 8)",
     "output_type": "error",
     "traceback": [
      "\u001b[1;36m  File \u001b[1;32m\"<ipython-input-131-65ec03d511f5>\"\u001b[1;36m, line \u001b[1;32m8\u001b[0m\n\u001b[1;33m    Byron Bay = (-28.6500,153.6167)\u001b[0m\n\u001b[1;37m            ^\u001b[0m\n\u001b[1;31mSyntaxError\u001b[0m\u001b[1;31m:\u001b[0m invalid syntax\n"
     ]
    }
   ],
   "source": [
    "# 7. Create a direction layer map using the start and end latitude-longitude pairs,\n",
    "# and stop1, stop2, and stop3 as the waypoints. The travel_mode should be \"DRIVING\", \"BICYCLING\", or \"WALKING\".\n",
    "\n",
    "\n",
    "\n",
    "\n",
    "Sawtell= (-30.3833,-30.3833)\n",
    "Byron Bay = (-28.6500,153.6167)\n",
    "Brisbane= (-27.4679,153.0281)\n",
    "Moree=(-29.4667,149.8500)\n",
    "\n",
    "fig = gmaps.figure()\n",
    "austrailia = gmaps.directions_layer(\n",
    "        Sawtell, Sawtell, waypoints=[Byron Bay,Brisbane,Moree]  \n",
    "        travel_mode='DRIVING')\n",
    "fig.add_layer(austrailia)\n",
    "fig"
   ]
  },
  {
   "cell_type": "code",
   "execution_count": 132,
   "metadata": {},
   "outputs": [
    {
     "data": {
      "text/html": [
       "<div>\n",
       "<style scoped>\n",
       "    .dataframe tbody tr th:only-of-type {\n",
       "        vertical-align: middle;\n",
       "    }\n",
       "\n",
       "    .dataframe tbody tr th {\n",
       "        vertical-align: top;\n",
       "    }\n",
       "\n",
       "    .dataframe thead th {\n",
       "        text-align: right;\n",
       "    }\n",
       "</style>\n",
       "<table border=\"1\" class=\"dataframe\">\n",
       "  <thead>\n",
       "    <tr style=\"text-align: right;\">\n",
       "      <th></th>\n",
       "      <th>Unnamed: 0</th>\n",
       "      <th>City</th>\n",
       "      <th>Country</th>\n",
       "      <th>Max Temp</th>\n",
       "      <th>Current Weather</th>\n",
       "      <th>Lat</th>\n",
       "      <th>Lng</th>\n",
       "      <th>Hotel Name</th>\n",
       "    </tr>\n",
       "  </thead>\n",
       "  <tbody>\n",
       "    <tr>\n",
       "      <th>0</th>\n",
       "      <td>393</td>\n",
       "      <td>Sawtell</td>\n",
       "      <td>AU</td>\n",
       "      <td>70.18</td>\n",
       "      <td>overcast clouds</td>\n",
       "      <td>-30.3833</td>\n",
       "      <td>153.1000</td>\n",
       "      <td>The Bungalow Sawtell</td>\n",
       "    </tr>\n",
       "    <tr>\n",
       "      <th>1</th>\n",
       "      <td>1</td>\n",
       "      <td>Byron Bay</td>\n",
       "      <td>AU</td>\n",
       "      <td>71.49</td>\n",
       "      <td>overcast clouds</td>\n",
       "      <td>-28.6500</td>\n",
       "      <td>153.6167</td>\n",
       "      <td>Backpackers Inn on the Beach</td>\n",
       "    </tr>\n",
       "    <tr>\n",
       "      <th>2</th>\n",
       "      <td>704</td>\n",
       "      <td>Brisbane</td>\n",
       "      <td>AU</td>\n",
       "      <td>73.58</td>\n",
       "      <td>clear sky</td>\n",
       "      <td>-27.4679</td>\n",
       "      <td>153.0281</td>\n",
       "      <td>Royal On The Park Brisbane</td>\n",
       "    </tr>\n",
       "    <tr>\n",
       "      <th>3</th>\n",
       "      <td>159</td>\n",
       "      <td>Moree</td>\n",
       "      <td>AU</td>\n",
       "      <td>77.61</td>\n",
       "      <td>broken clouds</td>\n",
       "      <td>-29.4667</td>\n",
       "      <td>149.8500</td>\n",
       "      <td>Molika Springs Motel</td>\n",
       "    </tr>\n",
       "  </tbody>\n",
       "</table>\n",
       "</div>"
      ],
      "text/plain": [
       "   Unnamed: 0       City Country  Max Temp  Current Weather      Lat  \\\n",
       "0         393    Sawtell      AU     70.18  overcast clouds -30.3833   \n",
       "1           1  Byron Bay      AU     71.49  overcast clouds -28.6500   \n",
       "2         704   Brisbane      AU     73.58        clear sky -27.4679   \n",
       "3         159      Moree      AU     77.61    broken clouds -29.4667   \n",
       "\n",
       "        Lng                    Hotel Name  \n",
       "0  153.1000          The Bungalow Sawtell  \n",
       "1  153.6167  Backpackers Inn on the Beach  \n",
       "2  153.0281    Royal On The Park Brisbane  \n",
       "3  149.8500          Molika Springs Motel  "
      ]
     },
     "execution_count": 132,
     "metadata": {},
     "output_type": "execute_result"
    }
   ],
   "source": [
    "# 8. To create a marker layer map between the four cities.\n",
    "#  Combine the four city DataFrames into one DataFrame using the concat() function.\n",
    "itinerary_df = pd.concat([vacation_start,vacation_stop1,vacation_stop2,vacation_stop3],ignore_index=True)\n",
    "itinerary_df"
   ]
  },
  {
   "cell_type": "code",
   "execution_count": 133,
   "metadata": {},
   "outputs": [],
   "source": [
    "# 9 Using the template add city name, the country code, the weather description and maximum temperature for the city. \n",
    "info_box_template = \"\"\"\n",
    "<dl>\n",
    "<dt>City</dt><dd>{City}</dd>\n",
    "<dt>Country</dt><dd>{Country}</dd>\n",
    "<dt>Current Weather</dt><dd>{Current Weather}</dd>\n",
    "<dt>Max Temp</dt><dd>{Max Temp}</dd>\n",
    "</dl>\n",
    "\"\"\"\n",
    "\n",
    "# 10a Get the data from each row and add it to the formatting template and store the data in a list.\n",
    "hotel_info = [info_box_template.format(**row) for index, row in itinerary_df.iterrows()]\n",
    "\n",
    "# 10b. Get the latitude and longitude from each row and store in a new DataFrame.\n",
    "locations = itinerary_df[[\"Lat\", \"Lng\"]]"
   ]
  },
  {
   "cell_type": "code",
   "execution_count": 134,
   "metadata": {},
   "outputs": [
    {
     "data": {
      "application/vnd.jupyter.widget-view+json": {
       "model_id": "43c4cf15ba1646f384c522d8f9da486e",
       "version_major": 2,
       "version_minor": 0
      },
      "text/plain": [
       "Figure(layout=FigureLayout(height='420px'))"
      ]
     },
     "metadata": {},
     "output_type": "display_data"
    }
   ],
   "source": [
    "# 11a. Add a marker layer for each city to the map.\n",
    "marker_layer = gmaps.marker_layer(locations, info_box_content=hotel_info)\n",
    "fig = gmaps.figure()\n",
    "fig.add_layer(marker_layer)\n",
    "fig\n",
    "# 11b. Display the figure\n",
    "fig"
   ]
  },
  {
   "cell_type": "code",
   "execution_count": null,
   "metadata": {},
   "outputs": [],
   "source": []
  }
 ],
 "metadata": {
  "kernelspec": {
   "display_name": "PythonData",
   "language": "python",
   "name": "pythondata"
  },
  "language_info": {
   "codemirror_mode": {
    "name": "ipython",
    "version": 3
   },
   "file_extension": ".py",
   "mimetype": "text/x-python",
   "name": "python",
   "nbconvert_exporter": "python",
   "pygments_lexer": "ipython3",
   "version": "3.7.10"
  },
  "latex_envs": {
   "LaTeX_envs_menu_present": true,
   "autoclose": false,
   "autocomplete": true,
   "bibliofile": "biblio.bib",
   "cite_by": "apalike",
   "current_citInitial": 1,
   "eqLabelWithNumbers": true,
   "eqNumInitial": 1,
   "hotkeys": {
    "equation": "Ctrl-E",
    "itemize": "Ctrl-I"
   },
   "labels_anchors": false,
   "latex_user_defs": false,
   "report_style_numbering": false,
   "user_envs_cfg": false
  }
 },
 "nbformat": 4,
 "nbformat_minor": 2
}
