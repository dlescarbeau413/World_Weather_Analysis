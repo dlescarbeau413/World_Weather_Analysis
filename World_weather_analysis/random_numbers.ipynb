{
 "cells": [
  {
   "cell_type": "code",
   "execution_count": 7,
   "id": "d9b5583a",
   "metadata": {},
   "outputs": [],
   "source": [
    "#import random module\n",
    "import random"
   ]
  },
  {
   "cell_type": "code",
   "execution_count": 8,
   "id": "c1a6be4d",
   "metadata": {},
   "outputs": [
    {
     "data": {
      "text/plain": [
       "0.08874075457995323"
      ]
     },
     "execution_count": 8,
     "metadata": {},
     "output_type": "execute_result"
    }
   ],
   "source": [
    "random.random()"
   ]
  },
  {
   "cell_type": "code",
   "execution_count": 9,
   "id": "e77f124b",
   "metadata": {},
   "outputs": [
    {
     "data": {
      "text/plain": [
       "41"
      ]
     },
     "execution_count": 9,
     "metadata": {},
     "output_type": "execute_result"
    }
   ],
   "source": [
    "random.randint(-90,90)"
   ]
  },
  {
   "cell_type": "code",
   "execution_count": 12,
   "id": "ec18e638",
   "metadata": {},
   "outputs": [],
   "source": [
    "x = 1\n",
    "latitudes = []\n",
    "while x < 11:\n",
    "    random_lat = random.randint(-90, 89) + random.random()\n",
    "    latitudes.append(random_lat)\n",
    "    x += 1"
   ]
  },
  {
   "cell_type": "code",
   "execution_count": 13,
   "id": "e374ab61",
   "metadata": {},
   "outputs": [
    {
     "data": {
      "text/plain": [
       "[66.94465822669333,\n",
       " -62.03659330281294,\n",
       " -77.49704008121887,\n",
       " 62.13938098252488,\n",
       " 71.70296101466009,\n",
       " 68.1394064458171,\n",
       " 15.217998969509667,\n",
       " -8.971776440556367,\n",
       " 74.12763583282975,\n",
       " -3.2771562104593714]"
      ]
     },
     "execution_count": 13,
     "metadata": {},
     "output_type": "execute_result"
    }
   ],
   "source": [
    "latitudes"
   ]
  },
  {
   "cell_type": "code",
   "execution_count": 14,
   "id": "c01f10bf",
   "metadata": {},
   "outputs": [
    {
     "data": {
      "text/plain": [
       "-8"
      ]
     },
     "execution_count": 14,
     "metadata": {},
     "output_type": "execute_result"
    }
   ],
   "source": [
    "random.randrange(-90,90, step=1)"
   ]
  },
  {
   "cell_type": "code",
   "execution_count": 15,
   "id": "01d6f4ef",
   "metadata": {},
   "outputs": [
    {
     "data": {
      "text/plain": [
       "-15.036759262533664"
      ]
     },
     "execution_count": 15,
     "metadata": {},
     "output_type": "execute_result"
    }
   ],
   "source": [
    "random.uniform(-90,90)"
   ]
  },
  {
   "cell_type": "code",
   "execution_count": 16,
   "id": "6d83fc7d",
   "metadata": {},
   "outputs": [],
   "source": [
    "# Import the NumPy module.\n",
    "import numpy as np"
   ]
  },
  {
   "cell_type": "code",
   "execution_count": 17,
   "id": "72df61e8",
   "metadata": {},
   "outputs": [
    {
     "data": {
      "text/plain": [
       "array([ 87.20875506,  75.56350106, -36.3547545 , -71.47654242,\n",
       "       -63.68312624,  65.27687653, -67.1897167 ,  76.70125803,\n",
       "        27.68860261,  50.87889418, -72.26147314, -70.51803704,\n",
       "       -39.40269623, -62.96378841, -29.11433484, -52.92572791,\n",
       "        61.85526393,  18.95003721, -44.88088274,  79.37034232,\n",
       "        16.83878545, -50.70075419, -51.69791191,  38.13379282,\n",
       "       -48.1670409 ,  10.25923062, -72.00617611,  -5.15489501,\n",
       "       -55.48961597,  19.777528  ,  19.1763195 ,  49.22411757,\n",
       "        13.16978692,  76.32236311, -29.90913325, -55.71252839,\n",
       "        16.22706089, -87.14912642, -47.01399804, -35.95910139,\n",
       "        82.60011498,  22.7242101 ,   4.22686102,  27.60499819,\n",
       "       -28.33949525,  70.1195636 , -30.75422296,  28.73594146,\n",
       "       -30.2294354 ,  25.39359856])"
      ]
     },
     "execution_count": 17,
     "metadata": {},
     "output_type": "execute_result"
    }
   ],
   "source": [
    "np.random.uniform(-90.000,90.000,size=50)"
   ]
  },
  {
   "cell_type": "code",
   "execution_count": 20,
   "id": "0e5a38f2",
   "metadata": {},
   "outputs": [],
   "source": [
    "# Import timeit.\n",
    "import timeit"
   ]
  },
  {
   "cell_type": "code",
   "execution_count": 22,
   "id": "79a068fd",
   "metadata": {},
   "outputs": [
    {
     "name": "stdout",
     "output_type": "stream",
     "text": [
      "28.8 µs ± 1.96 µs per loop (mean ± std. dev. of 7 runs, 10000 loops each)\n"
     ]
    }
   ],
   "source": [
    "%timeit np.random.uniform(-90.000,90.000,size=1500)"
   ]
  },
  {
   "cell_type": "code",
   "execution_count": 28,
   "id": "ee9cb64d",
   "metadata": {},
   "outputs": [
    {
     "name": "stdout",
     "output_type": "stream",
     "text": [
      "3.56 ms ± 274 µs per loop (mean ± std. dev. of 7 runs, 100 loops each)\n"
     ]
    }
   ],
   "source": [
    "def latitudes(size):\n",
    "    latitudes = []\n",
    "    x = 0\n",
    "    while x < (size):\n",
    "        random_lat= random.randint(-90,90) + random.random()\n",
    "        latitudes.append(random_lat)\n",
    "        x +=1\n",
    "    return latitudes \n",
    "# Call the function with 1500.\n",
    "%timeit latitudes(1500)"
   ]
  },
  {
   "cell_type": "code",
   "execution_count": null,
   "id": "78bee8a1",
   "metadata": {},
   "outputs": [],
   "source": []
  }
 ],
 "metadata": {
  "kernelspec": {
   "display_name": "PythonData",
   "language": "python",
   "name": "pythondata"
  },
  "language_info": {
   "codemirror_mode": {
    "name": "ipython",
    "version": 3
   },
   "file_extension": ".py",
   "mimetype": "text/x-python",
   "name": "python",
   "nbconvert_exporter": "python",
   "pygments_lexer": "ipython3",
   "version": "3.7.10"
  }
 },
 "nbformat": 4,
 "nbformat_minor": 5
}
